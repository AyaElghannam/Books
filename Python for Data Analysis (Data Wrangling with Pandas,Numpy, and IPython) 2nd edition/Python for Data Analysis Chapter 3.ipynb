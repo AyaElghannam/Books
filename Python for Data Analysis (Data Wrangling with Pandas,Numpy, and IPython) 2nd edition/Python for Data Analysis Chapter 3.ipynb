{
 "cells": [
  {
   "cell_type": "markdown",
   "metadata": {},
   "source": [
    "# Content\n",
    "## Data Structures and Sequence\n",
    "- Tuple\n"
   ]
  },
  {
   "cell_type": "markdown",
   "metadata": {},
   "source": [
    "## Tuple\n",
    "- Definition: \n",
    "\n",
    "A tuple is a fixed-length, immutable sequence of Python objects. \n",
    "\n",
    "- Creation\n",
    "    - comma-separated sequence of values [tup = 4,5,6] \n",
    "    - patentheses [nestes_tup = (4, 5, 6), (7, 8)]\n",
    "    \n",
    "- Properties\n",
    "    - you can convert any sequence using [tuple]\n",
    "    - Elements can be accessed with square brackets []\n",
    "    - While the objects stored in a tuple may be mutable themselves\n",
    "    - If an object inside a tuple is mutable, such as a list, you can modify it in-place\n",
    "    - You can concatenate tuples using the + operator to produce longer tuples\n",
    "    - Multiplying a tuple by an integer,has the effect of concatenating together that many copies of the tuple\n",
    "- Unpacking tuples\n",
    "\n",
    "## list\n",
    "\n",
    "In contrast with tuples, lists are variable-length and their contents can be modified in-place.\n",
    "\n",
    "- Creation\n",
    "    - using square brackets []\n",
    "    - using list type function\n",
    "- Properties\n",
    "\n",
    "## Build-in Sequence Functions\n",
    "- Enumerate\n",
    "    - It’s common when iterating over a sequence to want to keep track of the index of the current item. \n",
    "- Sorted\n",
    "- Zip"
   ]
  },
  {
   "cell_type": "code",
   "execution_count": 1,
   "metadata": {},
   "outputs": [],
   "source": [
    "%matplotlib inline\n",
    "import numpy as np\n",
    "import pandas as pd\n",
    "import matplotlib.pyplot as plt\n",
    "import seaborn as sns\n",
    "import statsmodels as sm"
   ]
  },
  {
   "cell_type": "code",
   "execution_count": 5,
   "metadata": {
    "tags": []
   },
   "outputs": [
    {
     "output_type": "stream",
     "name": "stdout",
     "text": "a= 1,b= 2,c=3\na= 4,b= 5,c=6\na= 7,b= 8,c=9\n"
    }
   ],
   "source": [
    "seq = [(1,2,3),(4,5,6),(7,8,9)]\n",
    "for a, b, c in seq:\n",
    "    print('a= {0},b= {1},c={2}' .format(a,b,c))"
   ]
  },
  {
   "cell_type": "code",
   "execution_count": 6,
   "metadata": {},
   "outputs": [
    {
     "output_type": "execute_result",
     "data": {
      "text/plain": "(1, 2)"
     },
     "metadata": {},
     "execution_count": 6
    }
   ],
   "source": [
    "values = 1,2,3,4,5\n",
    "a,b, *rest = values\n",
    "a,b"
   ]
  },
  {
   "cell_type": "code",
   "execution_count": 7,
   "metadata": {},
   "outputs": [
    {
     "output_type": "execute_result",
     "data": {
      "text/plain": "[3, 4, 5]"
     },
     "metadata": {},
     "execution_count": 7
    }
   ],
   "source": [
    "rest"
   ]
  },
  {
   "cell_type": "code",
   "execution_count": 3,
   "metadata": {},
   "outputs": [
    {
     "output_type": "execute_result",
     "data": {
      "text/plain": "['Alabama',\n 'Georgia',\n 'Georgia',\n 'Georgia',\n 'Florida',\n 'South Carolina',\n 'West Virginia']"
     },
     "metadata": {},
     "execution_count": 3
    }
   ],
   "source": [
    "states = [' Alabama ', 'Georgia!', 'Georgia', 'georgia', 'FlOrIda','south carolina##', 'West virginia?']\n",
    "\n",
    "import re\n",
    "def clean_strings(strings):\n",
    "    results = []\n",
    "    for value in strings:\n",
    "        value = value.strip()\n",
    "        value = re.sub('[!#?]','', value) \n",
    "        value = value.title()\n",
    "        results.append(value)\n",
    "    return results\n",
    "clean_strings(states)"
   ]
  },
  {
   "cell_type": "code",
   "execution_count": 4,
   "metadata": {},
   "outputs": [
    {
     "output_type": "execute_result",
     "data": {
      "text/plain": "<function __main__.<lambda>(x)>"
     },
     "metadata": {},
     "execution_count": 4
    }
   ],
   "source": []
  },
  {
   "cell_type": "code",
   "execution_count": null,
   "metadata": {},
   "outputs": [],
   "source": []
  }
 ],
 "metadata": {
  "kernelspec": {
   "display_name": "Python 3",
   "language": "python",
   "name": "python3"
  },
  "language_info": {
   "codemirror_mode": {
    "name": "ipython",
    "version": 3
   },
   "file_extension": ".py",
   "mimetype": "text/x-python",
   "name": "python",
   "nbconvert_exporter": "python",
   "pygments_lexer": "ipython3",
   "version": "3.7.7"
  }
 },
 "nbformat": 4,
 "nbformat_minor": 2
}